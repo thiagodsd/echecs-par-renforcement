{
 "cells": [
  {
   "cell_type": "markdown",
   "metadata": {},
   "source": [
    "Após algumas pequenas alterações no código disponibilizado pelo usuário [Boštjan Mejak no Stack Overflow](https://stackoverflow.com/a/47337246), está finalizada a interface de xadrez que salva arquivos `pgn` no término do jogo."
   ]
  },
  {
   "cell_type": "markdown",
   "metadata": {},
   "source": [
    "A configuração final\n",
    "\n",
    "![](img/img0.png)\n",
    "\n",
    "gera o arquivo\n",
    "\n",
    "```\n",
    "[Event \"test\"]\n",
    "[Site \"?\"]\n",
    "[Date \"????.??.??\"]\n",
    "[Round \"?\"]\n",
    "[White \"user\"]\n",
    "[Black \"homemade engine\"]\n",
    "[Result \"1-0\"]\n",
    "\n",
    "1. e4 a5 2. Bc4 a4 3. Qh5 a3 4. Qxf7# 1-0\n",
    "```\n",
    "\n",
    "reconhecido pelo lichess: [https://lichess.org/study/Nd5XNecb](https://lichess.org/study/Nd5XNecb)."
   ]
  }
 ],
 "metadata": {
  "kernelspec": {
   "display_name": "Python 3",
   "language": "python",
   "name": "python3"
  },
  "language_info": {
   "codemirror_mode": {
    "name": "ipython",
    "version": 3
   },
   "file_extension": ".py",
   "mimetype": "text/x-python",
   "name": "python",
   "nbconvert_exporter": "python",
   "pygments_lexer": "ipython3",
   "version": "3.5.2"
  }
 },
 "nbformat": 4,
 "nbformat_minor": 2
}
