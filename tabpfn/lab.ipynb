{
 "cells": [
  {
   "cell_type": "markdown",
   "id": "024df40d",
   "metadata": {},
   "source": [
    "# setup"
   ]
  },
  {
   "cell_type": "code",
   "execution_count": 1,
   "id": "e6705fdf",
   "metadata": {},
   "outputs": [
    {
     "data": {
      "text/plain": [
       "y\n",
       "0    0.768571\n",
       "1    0.231429\n",
       "Name: proportion, dtype: float64"
      ]
     },
     "metadata": {},
     "output_type": "display_data"
    },
    {
     "data": {
      "text/html": [
       "<div>\n",
       "<style scoped>\n",
       "    .dataframe tbody tr th:only-of-type {\n",
       "        vertical-align: middle;\n",
       "    }\n",
       "\n",
       "    .dataframe tbody tr th {\n",
       "        vertical-align: top;\n",
       "    }\n",
       "\n",
       "    .dataframe thead th {\n",
       "        text-align: right;\n",
       "    }\n",
       "</style>\n",
       "<table border=\"1\" class=\"dataframe\">\n",
       "  <thead>\n",
       "    <tr style=\"text-align: right;\">\n",
       "      <th></th>\n",
       "      <th>x0</th>\n",
       "      <th>x1</th>\n",
       "      <th>x2</th>\n",
       "      <th>x3</th>\n",
       "      <th>x4</th>\n",
       "      <th>x5</th>\n",
       "      <th>x6</th>\n",
       "      <th>x7</th>\n",
       "      <th>x8</th>\n",
       "      <th>y</th>\n",
       "    </tr>\n",
       "  </thead>\n",
       "  <tbody>\n",
       "    <tr>\n",
       "      <th>0</th>\n",
       "      <td>-2.379886</td>\n",
       "      <td>2.462844</td>\n",
       "      <td>0.354143</td>\n",
       "      <td>-0.986244</td>\n",
       "      <td>-0.220444</td>\n",
       "      <td>0.907610</td>\n",
       "      <td>-1.096197</td>\n",
       "      <td>0.234149</td>\n",
       "      <td>-0.335504</td>\n",
       "      <td>0</td>\n",
       "    </tr>\n",
       "    <tr>\n",
       "      <th>1</th>\n",
       "      <td>-2.499733</td>\n",
       "      <td>-0.303906</td>\n",
       "      <td>-1.279385</td>\n",
       "      <td>-2.216344</td>\n",
       "      <td>1.236461</td>\n",
       "      <td>0.154278</td>\n",
       "      <td>0.379605</td>\n",
       "      <td>-0.045617</td>\n",
       "      <td>-0.452825</td>\n",
       "      <td>0</td>\n",
       "    </tr>\n",
       "    <tr>\n",
       "      <th>2</th>\n",
       "      <td>0.955688</td>\n",
       "      <td>0.496804</td>\n",
       "      <td>1.436558</td>\n",
       "      <td>1.251016</td>\n",
       "      <td>-0.223396</td>\n",
       "      <td>0.007484</td>\n",
       "      <td>-0.933035</td>\n",
       "      <td>-1.054053</td>\n",
       "      <td>-0.438645</td>\n",
       "      <td>1</td>\n",
       "    </tr>\n",
       "    <tr>\n",
       "      <th>3</th>\n",
       "      <td>-0.889533</td>\n",
       "      <td>-0.997865</td>\n",
       "      <td>0.241247</td>\n",
       "      <td>-0.032683</td>\n",
       "      <td>1.238041</td>\n",
       "      <td>0.439410</td>\n",
       "      <td>-1.489655</td>\n",
       "      <td>-0.654865</td>\n",
       "      <td>0.741006</td>\n",
       "      <td>0</td>\n",
       "    </tr>\n",
       "    <tr>\n",
       "      <th>4</th>\n",
       "      <td>1.945429</td>\n",
       "      <td>0.887693</td>\n",
       "      <td>0.202967</td>\n",
       "      <td>0.829576</td>\n",
       "      <td>1.632109</td>\n",
       "      <td>-0.587678</td>\n",
       "      <td>0.363140</td>\n",
       "      <td>0.724064</td>\n",
       "      <td>-0.773824</td>\n",
       "      <td>0</td>\n",
       "    </tr>\n",
       "    <tr>\n",
       "      <th>...</th>\n",
       "      <td>...</td>\n",
       "      <td>...</td>\n",
       "      <td>...</td>\n",
       "      <td>...</td>\n",
       "      <td>...</td>\n",
       "      <td>...</td>\n",
       "      <td>...</td>\n",
       "      <td>...</td>\n",
       "      <td>...</td>\n",
       "      <td>...</td>\n",
       "    </tr>\n",
       "    <tr>\n",
       "      <th>345</th>\n",
       "      <td>-0.670181</td>\n",
       "      <td>-0.191874</td>\n",
       "      <td>-0.501260</td>\n",
       "      <td>-0.725447</td>\n",
       "      <td>-0.616581</td>\n",
       "      <td>-0.014932</td>\n",
       "      <td>-0.660980</td>\n",
       "      <td>0.154708</td>\n",
       "      <td>-0.208094</td>\n",
       "      <td>0</td>\n",
       "    </tr>\n",
       "    <tr>\n",
       "      <th>346</th>\n",
       "      <td>-2.390433</td>\n",
       "      <td>1.120531</td>\n",
       "      <td>-1.014646</td>\n",
       "      <td>-2.697053</td>\n",
       "      <td>0.853636</td>\n",
       "      <td>-0.385482</td>\n",
       "      <td>-0.748249</td>\n",
       "      <td>-0.858356</td>\n",
       "      <td>-2.487285</td>\n",
       "      <td>1</td>\n",
       "    </tr>\n",
       "    <tr>\n",
       "      <th>347</th>\n",
       "      <td>-1.799390</td>\n",
       "      <td>1.101780</td>\n",
       "      <td>1.763712</td>\n",
       "      <td>0.344279</td>\n",
       "      <td>-1.015769</td>\n",
       "      <td>1.325023</td>\n",
       "      <td>-1.060064</td>\n",
       "      <td>-0.151718</td>\n",
       "      <td>-0.031117</td>\n",
       "      <td>0</td>\n",
       "    </tr>\n",
       "    <tr>\n",
       "      <th>348</th>\n",
       "      <td>1.007953</td>\n",
       "      <td>-2.110177</td>\n",
       "      <td>1.611930</td>\n",
       "      <td>1.540353</td>\n",
       "      <td>0.180854</td>\n",
       "      <td>0.428374</td>\n",
       "      <td>-0.907252</td>\n",
       "      <td>0.528229</td>\n",
       "      <td>-0.196155</td>\n",
       "      <td>0</td>\n",
       "    </tr>\n",
       "    <tr>\n",
       "      <th>349</th>\n",
       "      <td>0.063427</td>\n",
       "      <td>-1.064502</td>\n",
       "      <td>1.143164</td>\n",
       "      <td>0.451637</td>\n",
       "      <td>-1.874992</td>\n",
       "      <td>-0.049314</td>\n",
       "      <td>0.936881</td>\n",
       "      <td>-1.678114</td>\n",
       "      <td>-0.887799</td>\n",
       "      <td>0</td>\n",
       "    </tr>\n",
       "  </tbody>\n",
       "</table>\n",
       "<p>350 rows × 10 columns</p>\n",
       "</div>"
      ],
      "text/plain": [
       "           x0        x1        x2        x3        x4        x5        x6  \\\n",
       "0   -2.379886  2.462844  0.354143 -0.986244 -0.220444  0.907610 -1.096197   \n",
       "1   -2.499733 -0.303906 -1.279385 -2.216344  1.236461  0.154278  0.379605   \n",
       "2    0.955688  0.496804  1.436558  1.251016 -0.223396  0.007484 -0.933035   \n",
       "3   -0.889533 -0.997865  0.241247 -0.032683  1.238041  0.439410 -1.489655   \n",
       "4    1.945429  0.887693  0.202967  0.829576  1.632109 -0.587678  0.363140   \n",
       "..        ...       ...       ...       ...       ...       ...       ...   \n",
       "345 -0.670181 -0.191874 -0.501260 -0.725447 -0.616581 -0.014932 -0.660980   \n",
       "346 -2.390433  1.120531 -1.014646 -2.697053  0.853636 -0.385482 -0.748249   \n",
       "347 -1.799390  1.101780  1.763712  0.344279 -1.015769  1.325023 -1.060064   \n",
       "348  1.007953 -2.110177  1.611930  1.540353  0.180854  0.428374 -0.907252   \n",
       "349  0.063427 -1.064502  1.143164  0.451637 -1.874992 -0.049314  0.936881   \n",
       "\n",
       "           x7        x8  y  \n",
       "0    0.234149 -0.335504  0  \n",
       "1   -0.045617 -0.452825  0  \n",
       "2   -1.054053 -0.438645  1  \n",
       "3   -0.654865  0.741006  0  \n",
       "4    0.724064 -0.773824  0  \n",
       "..        ...       ... ..  \n",
       "345  0.154708 -0.208094  0  \n",
       "346 -0.858356 -2.487285  1  \n",
       "347 -0.151718 -0.031117  0  \n",
       "348  0.528229 -0.196155  0  \n",
       "349 -1.678114 -0.887799  0  \n",
       "\n",
       "[350 rows x 10 columns]"
      ]
     },
     "metadata": {},
     "output_type": "display_data"
    }
   ],
   "source": [
    "import numpy as np\n",
    "import pandas as pd\n",
    "import seaborn as sns\n",
    "import matplotlib.pyplot as plt\n",
    "from sklearn.datasets import make_classification\n",
    "\n",
    "N = 350\n",
    "\n",
    "data = make_classification(\n",
    "    n_samples      = N, \n",
    "    n_features    = 9, \n",
    "    n_informative = 4, \n",
    "    n_classes     = 2,\n",
    "    flip_y        = 0.5,\n",
    "    class_sep     = 0.5\n",
    ")\n",
    "\n",
    "df      = pd.DataFrame( data[0], columns = [ 'x{}'.format(str(i)) for i in range(len(data[0][1])) ] )\n",
    "df['y'] = np.random.choice([0, 1], size=(N,), p=[0.75, 0.25])\n",
    "    \n",
    "# sns.pairplot(df, plot_kws={'alpha':0.75}, hue='y', diag_kind=\"hist\");\n",
    "\n",
    "display(df['y'].value_counts(normalize=True))\n",
    "\n",
    "display(df)"
   ]
  },
  {
   "cell_type": "code",
   "execution_count": 2,
   "id": "25a5303c",
   "metadata": {},
   "outputs": [
    {
     "data": {
      "text/plain": [
       "[<matplotlib.lines.Line2D at 0x70bd86b9e060>]"
      ]
     },
     "execution_count": 2,
     "metadata": {},
     "output_type": "execute_result"
    },
    {
     "data": {
      "image/png": "[encoded data removed]",
      "text/plain": [
       "<Figure size 640x480 with 1 Axes>"
      ]
     },
     "metadata": {},
     "output_type": "display_data"
    }
   ],
   "source": [
    "X   = np.random.uniform( -10, 10, N )\n",
    "y   = 2 * np.exp(1/(np.abs(X)+1)) * np.sin( 0.1 * X**2 ) + 0.5 * np.random.randn( N )\n",
    "df['x4'] = y\n",
    "\n",
    "plt.plot(X, y, marker='.', linestyle='None',)"
   ]
  },
  {
   "cell_type": "markdown",
   "id": "aa4a2fc4",
   "metadata": {},
   "source": [
    "# lightgbm"
   ]
  },
  {
   "cell_type": "code",
   "execution_count": 3,
   "id": "a96082f8",
   "metadata": {},
   "outputs": [],
   "source": [
    "import lightgbm\n",
    "from sklearn.model_selection import train_test_split\n",
    "from sklearn.metrics import classification_report, roc_curve, auc,accuracy_score, confusion_matrix, f1_score, fbeta_score, balanced_accuracy_score, precision_score, confusion_matrix, ConfusionMatrixDisplay\n",
    "\n",
    "X = df.drop('y', axis=1)\n",
    "y = df['y']\n",
    "\n",
    "x_train, x_test, y_train, y_test = train_test_split(X, y, test_size=0.2, random_state=33)"
   ]
  },
  {
   "cell_type": "code",
   "execution_count": 4,
   "id": "ebdd0165",
   "metadata": {},
   "outputs": [
    {
     "name": "stdout",
     "output_type": "stream",
     "text": [
      "              precision    recall  f1-score   support\n",
      "\n",
      "           0       0.74      0.92      0.82        52\n",
      "           1       0.20      0.06      0.09        18\n",
      "\n",
      "    accuracy                           0.70        70\n",
      "   macro avg       0.47      0.49      0.45        70\n",
      "weighted avg       0.60      0.70      0.63        70\n",
      "\n"
     ]
    }
   ],
   "source": [
    "model = lightgbm.LGBMClassifier(verbose=-1)\n",
    "model.fit(x_train, y_train)\n",
    "\n",
    "y_pred = model.predict(x_test)\n",
    "y_prob = model.predict_proba(x_test)[:,1]\n",
    "\n",
    "print(classification_report(y_test, y_pred))"
   ]
  },
  {
   "cell_type": "markdown",
   "id": "4037ad3c",
   "metadata": {},
   "source": [
    "# tabpfn"
   ]
  },
  {
   "cell_type": "code",
   "execution_count": 6,
   "id": "30002dcf",
   "metadata": {},
   "outputs": [
    {
     "data": {
      "text/plain": [
       "array([0.1980773 , 0.21747707, 0.21963671, 0.2139403 , 0.21349455,\n",
       "       0.19317141, 0.19393867, 0.21064946, 0.21317527, 0.21923849,\n",
       "       0.20261465, 0.2076066 , 0.20567566, 0.21015736, 0.19751967,\n",
       "       0.19352098, 0.2114333 , 0.20841421, 0.20380366, 0.21654966,\n",
       "       0.20617181, 0.21321958, 0.21212824, 0.20866328, 0.20140377,\n",
       "       0.19851546, 0.20329495, 0.22322623, 0.20172387, 0.19861591,\n",
       "       0.20202436, 0.20784082, 0.20769046, 0.21673396, 0.21685916,\n",
       "       0.20947836, 0.20594753, 0.219461  , 0.20595406, 0.22036093,\n",
       "       0.20065033, 0.20810895, 0.21786599, 0.2152056 , 0.20196792,\n",
       "       0.19280851, 0.20750539, 0.2163505 , 0.2210077 , 0.2004027 ,\n",
       "       0.20166327, 0.20486405, 0.21052407, 0.19955637, 0.2204653 ,\n",
       "       0.21549124, 0.22059087, 0.20944238, 0.19230515, 0.20105937,\n",
       "       0.21010506, 0.2197906 , 0.20784381, 0.22165146, 0.19595775,\n",
       "       0.20037618, 0.20312303, 0.20528595, 0.20019051, 0.21187212],\n",
       "      dtype=float32)"
      ]
     },
     "execution_count": 6,
     "metadata": {},
     "output_type": "execute_result"
    }
   ],
   "source": [
    "y_prob"
   ]
  },
  {
   "cell_type": "code",
   "execution_count": 7,
   "id": "6285d9a9",
   "metadata": {},
   "outputs": [
    {
     "name": "stderr",
     "output_type": "stream",
     "text": [
      "/opt/venvs/lab/lib/python3.12/site-packages/sklearn/base.py:474: FutureWarning: `BaseEstimator._validate_data` is deprecated in 1.6 and will be removed in 1.7. Use `sklearn.utils.validation.validate_data` instead. This function becomes public and is part of the scikit-learn developer API.\n",
      "  warnings.warn(\n",
      "/opt/venvs/lab/lib/python3.12/site-packages/sklearn/utils/deprecation.py:151: FutureWarning: 'force_all_finite' was renamed to 'ensure_all_finite' in 1.6 and will be removed in 1.8.\n",
      "  warnings.warn(\n",
      "/opt/venvs/lab/lib/python3.12/site-packages/sklearn/utils/deprecation.py:151: FutureWarning: 'force_all_finite' was renamed to 'ensure_all_finite' in 1.6 and will be removed in 1.8.\n",
      "  warnings.warn(\n",
      "/opt/venvs/lab/lib/python3.12/site-packages/sklearn/base.py:474: FutureWarning: `BaseEstimator._validate_data` is deprecated in 1.6 and will be removed in 1.7. Use `sklearn.utils.validation.validate_data` instead. This function becomes public and is part of the scikit-learn developer API.\n",
      "  warnings.warn(\n",
      "/opt/venvs/lab/lib/python3.12/site-packages/sklearn/utils/deprecation.py:151: FutureWarning: 'force_all_finite' was renamed to 'ensure_all_finite' in 1.6 and will be removed in 1.8.\n",
      "  warnings.warn(\n",
      "/opt/venvs/lab/lib/python3.12/site-packages/sklearn/base.py:474: FutureWarning: `BaseEstimator._validate_data` is deprecated in 1.6 and will be removed in 1.7. Use `sklearn.utils.validation.validate_data` instead. This function becomes public and is part of the scikit-learn developer API.\n",
      "  warnings.warn(\n",
      "/opt/venvs/lab/lib/python3.12/site-packages/sklearn/utils/deprecation.py:151: FutureWarning: 'force_all_finite' was renamed to 'ensure_all_finite' in 1.6 and will be removed in 1.8.\n",
      "  warnings.warn(\n"
     ]
    },
    {
     "name": "stdout",
     "output_type": "stream",
     "text": [
      "              precision    recall  f1-score   support\n",
      "\n",
      "           0       0.74      1.00      0.85        52\n",
      "           1       0.00      0.00      0.00        18\n",
      "\n",
      "    accuracy                           0.74        70\n",
      "   macro avg       0.37      0.50      0.43        70\n",
      "weighted avg       0.55      0.74      0.63        70\n",
      "\n"
     ]
    },
    {
     "name": "stderr",
     "output_type": "stream",
     "text": [
      "/opt/venvs/lab/lib/python3.12/site-packages/sklearn/metrics/_classification.py:1565: UndefinedMetricWarning: Precision is ill-defined and being set to 0.0 in labels with no predicted samples. Use `zero_division` parameter to control this behavior.\n",
      "  _warn_prf(average, modifier, f\"{metric.capitalize()} is\", len(result))\n",
      "/opt/venvs/lab/lib/python3.12/site-packages/sklearn/metrics/_classification.py:1565: UndefinedMetricWarning: Precision is ill-defined and being set to 0.0 in labels with no predicted samples. Use `zero_division` parameter to control this behavior.\n",
      "  _warn_prf(average, modifier, f\"{metric.capitalize()} is\", len(result))\n",
      "/opt/venvs/lab/lib/python3.12/site-packages/sklearn/metrics/_classification.py:1565: UndefinedMetricWarning: Precision is ill-defined and being set to 0.0 in labels with no predicted samples. Use `zero_division` parameter to control this behavior.\n",
      "  _warn_prf(average, modifier, f\"{metric.capitalize()} is\", len(result))\n"
     ]
    }
   ],
   "source": [
    "import tabpfn\n",
    "\n",
    "classifier = tabpfn.TabPFNClassifier()\n",
    "classifier.fit(x_train, y_train)\n",
    "\n",
    "y_pred = classifier.predict(x_test)\n",
    "y_prob = classifier.predict_proba(x_test)[:,1]\n",
    "\n",
    "print(classification_report(y_test, y_pred))"
   ]
  },
  {
   "cell_type": "markdown",
   "id": "f61631cf",
   "metadata": {},
   "source": [
    "."
   ]
  }
 ],
 "metadata": {
  "kernelspec": {
   "display_name": "lab",
   "language": "python",
   "name": "python3"
  },
  "language_info": {
   "codemirror_mode": {
    "name": "ipython",
    "version": 3
   },
   "file_extension": ".py",
   "mimetype": "text/x-python",
   "name": "python",
   "nbconvert_exporter": "python",
   "pygments_lexer": "ipython3",
   "version": "3.12.3"
  }
 },
 "nbformat": 4,
 "nbformat_minor": 5
}
