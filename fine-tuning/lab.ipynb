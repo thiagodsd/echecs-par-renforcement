{
 "cells": [
  {
   "cell_type": "code",
   "execution_count": 1,
   "id": "e6705fdf",
   "metadata": {},
   "outputs": [
    {
     "data": {
      "application/vnd.jupyter.widget-view+json": {
       "model_id": "981c7716c3d344f2aa215f6b34b287a7",
       "version_major": 2,
       "version_minor": 0
      },
      "text/plain": [
       "Loading checkpoint shards:   0%|          | 0/2 [00:00<?, ?it/s]"
      ]
     },
     "metadata": {},
     "output_type": "display_data"
    }
   ],
   "source": [
    "import os\n",
    "import torch\n",
    "from phi2_use_model_v1 import load_fine_tuned_model, generate_response\n",
    "\n",
    "os.environ['PYTORCH_CUDA_ALLOC_CONF'] = 'expandable_segments:True'\n",
    "\n",
    "\n",
    "torch.cuda.empty_cache()\n",
    "torch.cuda.is_available()\n",
    "torch.cuda.current_device()\n",
    "torch.cuda.get_device_name()\n",
    "torch.cuda.memory_allocated()\n",
    "torch.cuda.memory_reserved()\n",
    "torch.cuda.memory_summary()\n",
    "\n",
    "# Load the model once\n",
    "model, tokenizer = load_fine_tuned_model()\n",
    "\n",
    "# Use it multiple times\n",
    "response = generate_response(\n",
    "    model,\n",
    "    tokenizer,\n",
    "    question = \"O que é plano de parentalidade\",\n",
    "    context = \"O que é plano de parentalidade\"\n",
    ")"
   ]
  },
  {
   "cell_type": "code",
   "execution_count": 4,
   "id": "09d53d7c",
   "metadata": {},
   "outputs": [
    {
     "name": "stdout",
     "output_type": "stream",
     "text": [
      "<|im_start|> system\n",
      "You are a helpful assistant that provides clear and informative answers based on the given context. If no context is provided or if it's marked as \"NONE\", provide a general answer based on your knowledge.\n",
      " <|im_end|> \n",
      " <|im_start|> user\n",
      "Context: O que é plano de parentalidade\n",
      "Question: O que é plano de parentalidade\n",
      " <|im_end|> \n",
      " <|im_start|> assistant\n",
      "\n",
      "In Portugal, we have all heard about Plano Pessoa, but what does this mean? Is there anything special about this particular scheme of things in terms of inheritance law? The short version: yes. So far, the succession rules were very simple – children inherit their father’s fortune; sons get more than daughters do, etc., etc. However, these days it can be quite complicated to interpret when an inheriting child receives part of his/her inheritance before he or she turns 18 (called “the age limit”). This means some planning will need to take place before any funds are distributed among family members so they don't run afoul of Portuguese laws. Also keep in mind, even though these new regulations went into effect September 1st 2019, nothing has changed for anyone under 16 years old who received money from their parents prior to that date. In other words, grandparents' gifts remain intact until beneficiaries reach adulthood. There may also come a time where changes would need to occur once grandchildren turn 21-25 depending upon the nature of the relationship between grandparent(s) and great-grandchild(ren). It should not cause concern to everyone involved because each person gets access to his/ her own assets at their respective ages without having to worry about legalities. Some people believe this was originally intended to prevent minors from squandering inherited wealth irresponsibly. Other concerns include making sure minor heirs receive only what is appropriate according to their ages. The bottom line remains the same regardless of one’ s personal preferences regarding how much money is distributed to whom -to maintain consistency within families and ensure fairness amongst siblings while preserving trust and integrity during a potentially difficult transition period. A testamentary gift is something worth considering whether its purpose is primarily financial security, providing educational opportunities for young adults, medical expenses, debt repayment plans and many different types of charitable efforts including environmental protection initiatives. These gifts give us hope which in itself represents our belief in humanity's collective progress toward justice and equality over greed and selfishness. As always, I wish my good fortune had been foreseen by those that\n"
     ]
    }
   ],
   "source": [
    "print(generate_response(\n",
    "    model,\n",
    "    tokenizer,\n",
    "    question = \"O que é plano de parentalidade\",\n",
    "    context = \"O que é plano de parentalidade\"\n",
    "))"
   ]
  },
  {
   "cell_type": "markdown",
   "id": "f61631cf",
   "metadata": {},
   "source": [
    "."
   ]
  }
 ],
 "metadata": {
  "kernelspec": {
   "display_name": "env_text",
   "language": "python",
   "name": "env_text"
  },
  "language_info": {
   "codemirror_mode": {
    "name": "ipython",
    "version": 3
   },
   "file_extension": ".py",
   "mimetype": "text/x-python",
   "name": "python",
   "nbconvert_exporter": "python",
   "pygments_lexer": "ipython3",
   "version": "3.12.3"
  }
 },
 "nbformat": 4,
 "nbformat_minor": 5
}
