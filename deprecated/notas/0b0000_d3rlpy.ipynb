{
 "cells": [
  {
   "cell_type": "code",
   "execution_count": 1,
   "id": "destroyed-powder",
   "metadata": {},
   "outputs": [],
   "source": [
    "import glob\n",
    "import io\n",
    "import base64\n",
    "\n",
    "from sklearn.model_selection import train_test_split\n",
    "\n",
    "import d3rlpy\n",
    "from d3rlpy.metrics.scorer import evaluate_on_environment\n",
    "\n",
    "from gym.wrappers     import Monitor\n",
    "\n",
    "from IPython.display  import HTML\n",
    "from IPython          import display as ipythondisplay\n",
    "from pyvirtualdisplay import Display"
   ]
  },
  {
   "cell_type": "code",
   "execution_count": 2,
   "id": "divine-layout",
   "metadata": {},
   "outputs": [
    {
     "name": "stdout",
     "output_type": "stream",
     "text": [
      "loading /home/dusodeth/.d4rl/datasets/Breakout/1/50/observation.gz...\n",
      "loading /home/dusodeth/.d4rl/datasets/Breakout/1/50/action.gz...\n",
      "loading /home/dusodeth/.d4rl/datasets/Breakout/1/50/reward.gz...\n",
      "loading /home/dusodeth/.d4rl/datasets/Breakout/1/50/terminal.gz...\n"
     ]
    }
   ],
   "source": [
    "dataset, env = d3rlpy.datasets.get_atari('breakout-expert-v0')"
   ]
  },
  {
   "cell_type": "markdown",
   "id": "neural-coffee",
   "metadata": {},
   "source": [
    "- - -"
   ]
  },
  {
   "cell_type": "code",
   "execution_count": 4,
   "id": "surgical-terror",
   "metadata": {},
   "outputs": [],
   "source": [
    "train_episodes, test_episodes = train_test_split(dataset, test_size = 0.1)"
   ]
  },
  {
   "cell_type": "code",
   "execution_count": 5,
   "id": "suitable-position",
   "metadata": {},
   "outputs": [],
   "source": [
    "cql = d3rlpy.algos.DiscreteCQL(n_frames=4, q_func_factory='qr', scaler='pixel', use_gpu=True)"
   ]
  },
  {
   "cell_type": "code",
   "execution_count": 8,
   "id": "stock-guess",
   "metadata": {},
   "outputs": [
    {
     "name": "stdout",
     "output_type": "stream",
     "text": [
      "2021-06-14 15:21.35 [debug    ] RoundIterator is selected.\n",
      "2021-06-14 15:21.35 [info     ] Directory is created at d3rlpy_logs/DiscreteCQL_20210614152135\n",
      "2021-06-14 15:21.35 [debug    ] Fitting scaler...              scaler=pixel\n",
      "2021-06-14 15:21.35 [info     ] Parameters are saved to d3rlpy_logs/DiscreteCQL_20210614152135/params.json params={'action_scaler': None, 'batch_size': 32, 'encoder_factory': {'type': 'default', 'params': {'activation': 'relu', 'use_batch_norm': False, 'dropout_rate': None}}, 'gamma': 0.99, 'generated_maxlen': 100000, 'learning_rate': 6.25e-05, 'n_critics': 1, 'n_frames': 4, 'n_steps': 1, 'optim_factory': {'optim_cls': 'Adam', 'betas': (0.9, 0.999), 'eps': 1e-08, 'weight_decay': 0, 'amsgrad': False}, 'q_func_factory': {'type': 'qr', 'params': {'bootstrap': False, 'share_encoder': False, 'n_quantiles': 32}}, 'real_ratio': 1.0, 'scaler': {'type': 'pixel', 'params': {}}, 'target_reduction_type': 'min', 'target_update_interval': 8000, 'use_gpu': 0, 'algorithm': 'DiscreteCQL', 'observation_shape': (4, 84, 84), 'action_size': 4}\n"
     ]
    },
    {
     "data": {
      "application/vnd.jupyter.widget-view+json": {
       "model_id": "c049069fc590492e9cbb9fd10f288932",
       "version_major": 2,
       "version_minor": 0
      },
      "text/plain": [
       "Epoch 1/1:   0%|          | 0/27857 [00:00<?, ?it/s]"
      ]
     },
     "metadata": {},
     "output_type": "display_data"
    },
    {
     "name": "stdout",
     "output_type": "stream",
     "text": [
      "2021-06-14 15:47.28 [info     ] DiscreteCQL_20210614152135: epoch=1 step=27857 epoch=1 metrics={'time_sample_batch': 0.0002764062066342991, 'time_algorithm_update': 0.007616340615502271, 'loss': 1.8378147763018333, 'time_step': 0.008056897316317242, 'environment': 0.0, 'td_error': 0.1065624305213553} step=27857\n",
      "2021-06-14 15:47.28 [info     ] Model parameters are saved to d3rlpy_logs/DiscreteCQL_20210614152135/model_1.pt\n"
     ]
    },
    {
     "data": {
      "text/plain": [
       "[(1,\n",
       "  {'time_sample_batch': 0.0002764062066342991,\n",
       "   'time_algorithm_update': 0.007616340615502271,\n",
       "   'loss': 1.8378147763018333,\n",
       "   'time_step': 0.008056897316317242,\n",
       "   'environment': 0.0,\n",
       "   'td_error': 0.1065624305213553})]"
      ]
     },
     "execution_count": 8,
     "metadata": {},
     "output_type": "execute_result"
    }
   ],
   "source": [
    "cql.fit(train_episodes,\n",
    "        eval_episodes = test_episodes,\n",
    "        n_epochs = 1,\n",
    "        scorers  = {\n",
    "            'environment' : d3rlpy.metrics.scorer.evaluate_on_environment(env),\n",
    "            'td_error'    : d3rlpy.metrics.scorer.td_error_scorer\n",
    "        })"
   ]
  },
  {
   "cell_type": "markdown",
   "id": "technological-niger",
   "metadata": {},
   "source": [
    "- - -"
   ]
  },
  {
   "cell_type": "code",
   "execution_count": 31,
   "id": "cloudy-count",
   "metadata": {},
   "outputs": [
    {
     "data": {
      "text/plain": [
       "<pyvirtualdisplay.display.Display at 0x7fde8806d280>"
      ]
     },
     "execution_count": 31,
     "metadata": {},
     "output_type": "execute_result"
    }
   ],
   "source": [
    "display = Display(visible=0, size=(1400, 900))\n",
    "display.start()"
   ]
  },
  {
   "cell_type": "code",
   "execution_count": 32,
   "id": "built-badge",
   "metadata": {},
   "outputs": [],
   "source": [
    "def show_video():\n",
    "    mp4list = glob.glob('video/*.mp4')\n",
    "    if len(mp4list) > 0:\n",
    "        mp4 = mp4list[0]\n",
    "        video = io.open(mp4, 'r+b').read()\n",
    "        encoded = base64.b64encode(video)\n",
    "        ipythondisplay.display(HTML(data='''\n",
    "            <video alt=\"test\" autoplay loop controls style=\"height: 400px;\">\n",
    "                <source src=\"data:video/mp4;base64,{0}\" type=\"video/mp4\" />\n",
    "            </video>'''.format(encoded.decode('ascii'))))\n",
    "    else: \n",
    "        print(\"Could not find video\")"
   ]
  },
  {
   "cell_type": "code",
   "execution_count": 33,
   "id": "rolled-wells",
   "metadata": {},
   "outputs": [],
   "source": [
    "env = Monitor(env, './video', force=True)"
   ]
  },
  {
   "cell_type": "code",
   "execution_count": 36,
   "id": "willing-consistency",
   "metadata": {},
   "outputs": [
    {
     "data": {
      "text/plain": [
       "0.0"
      ]
     },
     "execution_count": 36,
     "metadata": {},
     "output_type": "execute_result"
    }
   ],
   "source": [
    "evaluate_on_environment(env)(cql)"
   ]
  },
  {
   "cell_type": "code",
   "execution_count": 2,
   "id": "absent-error",
   "metadata": {},
   "outputs": [],
   "source": [
    "# show_video()\n",
    "# d3rlpy record d3rlpy_logs/DiscreteCQL_20210614152135/model_1.pt --env-header 'import gym; from d3rlpy.envs import Atari; env = Atari(gym.make(\"BreakoutNoFrameskip-v4\"), is_eval=True)'"
   ]
  },
  {
   "cell_type": "markdown",
   "id": "solved-rover",
   "metadata": {},
   "source": [
    "."
   ]
  }
 ],
 "metadata": {
  "kernelspec": {
   "display_name": "Python 3",
   "language": "python",
   "name": "python3"
  },
  "language_info": {
   "codemirror_mode": {
    "name": "ipython",
    "version": 3
   },
   "file_extension": ".py",
   "mimetype": "text/x-python",
   "name": "python",
   "nbconvert_exporter": "python",
   "pygments_lexer": "ipython3",
   "version": "3.8.5"
  }
 },
 "nbformat": 4,
 "nbformat_minor": 5
}
